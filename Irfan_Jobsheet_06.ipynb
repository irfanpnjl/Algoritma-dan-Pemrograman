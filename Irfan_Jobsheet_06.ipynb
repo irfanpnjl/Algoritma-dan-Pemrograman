{
  "nbformat": 4,
  "nbformat_minor": 0,
  "metadata": {
    "colab": {
      "provenance": [],
      "authorship_tag": "ABX9TyPgOnyxrUf3DeZcZdo1ha+L",
      "include_colab_link": true
    },
    "kernelspec": {
      "name": "python3",
      "display_name": "Python 3"
    },
    "language_info": {
      "name": "python"
    }
  },
  "cells": [
    {
      "cell_type": "markdown",
      "metadata": {
        "id": "view-in-github",
        "colab_type": "text"
      },
      "source": [
        "<a href=\"https://colab.research.google.com/github/irfanpnjl/Algoritma-dan-Pemrograman/blob/main/Irfan_Jobsheet_06.ipynb\" target=\"_parent\"><img src=\"https://colab.research.google.com/assets/colab-badge.svg\" alt=\"Open In Colab\"/></a>"
      ]
    },
    {
      "cell_type": "markdown",
      "source": [
        "# Praktikum 1-Membuat dan Mengakses List ID"
      ],
      "metadata": {
        "id": "LZR28qCm3I6D"
      }
    },
    {
      "cell_type": "code",
      "execution_count": null,
      "metadata": {
        "colab": {
          "base_uri": "https://localhost:8080/"
        },
        "id": "HsQbNawl2tfD",
        "outputId": "39638f72-cba1-4ce5-967d-09b2b114ae73"
      },
      "outputs": [
        {
          "output_type": "stream",
          "name": "stdout",
          "text": [
            "Andi\n",
            "Budi\n",
            "cici\n"
          ]
        }
      ],
      "source": [
        "mahasiswa = [\"Andi\", \"Budi\", \"cici\"]\n",
        "print(mahasiswa[0])\n",
        "print(mahasiswa[1])\n",
        "print(mahasiswa[-1])"
      ]
    },
    {
      "cell_type": "markdown",
      "source": [
        "# Praktikum 2-Update dan Operasi Dasar List"
      ],
      "metadata": {
        "id": "Vid6xTCO4B5z"
      }
    },
    {
      "cell_type": "code",
      "source": [
        "nilai = [85, 95, 78]\n",
        "nilai[1] = 95\n",
        "nilai.append(100)\n",
        "nilai.remove(78)\n",
        "print(nilai)"
      ],
      "metadata": {
        "colab": {
          "base_uri": "https://localhost:8080/"
        },
        "id": "XoFEfeHT4A1r",
        "outputId": "d141c148-a627-485c-efd4-a5a756ff0abb"
      },
      "execution_count": null,
      "outputs": [
        {
          "output_type": "stream",
          "name": "stdout",
          "text": [
            "[85, 95, 100]\n"
          ]
        }
      ]
    },
    {
      "cell_type": "markdown",
      "source": [
        "# Praktikum 3-Slicing List"
      ],
      "metadata": {
        "id": "_nMFkrSA4uH8"
      }
    },
    {
      "cell_type": "code",
      "source": [
        "nilai = [85, 90, 78, 92, 88]\n",
        "print(nilai[0:3])\n",
        "print(nilai[2:])\n",
        "print(nilai[:3])"
      ],
      "metadata": {
        "colab": {
          "base_uri": "https://localhost:8080/"
        },
        "id": "ktruhrPM4iaW",
        "outputId": "ce82e07f-5cb6-4944-e864-c364168080f4"
      },
      "execution_count": null,
      "outputs": [
        {
          "output_type": "stream",
          "name": "stdout",
          "text": [
            "[85, 90, 78]\n",
            "[78, 92, 88]\n",
            "[85, 90, 78]\n"
          ]
        }
      ]
    },
    {
      "cell_type": "markdown",
      "source": [
        "# Praktikum 4-List 2D (Matriks)"
      ],
      "metadata": {
        "id": "OQYJYXGy5Vxk"
      }
    },
    {
      "cell_type": "code",
      "source": [
        "matriks = [\n",
        "    [1, 2, 3],\n",
        "    [4, 5, 6],\n",
        "    [7, 8, 9]\n",
        "]\n",
        "\n",
        "print(matriks[0][0])\n",
        "print(matriks[1][2])\n",
        "print(matriks[2])"
      ],
      "metadata": {
        "colab": {
          "base_uri": "https://localhost:8080/"
        },
        "id": "_PssgbPq5UcJ",
        "outputId": "acae3476-a1b3-4cee-8efe-5f02b7275ba3"
      },
      "execution_count": null,
      "outputs": [
        {
          "output_type": "stream",
          "name": "stdout",
          "text": [
            "1\n",
            "6\n",
            "[7, 8, 9]\n"
          ]
        }
      ]
    },
    {
      "cell_type": "markdown",
      "source": [
        "# Praktikum 5-Operasi pada List 2D"
      ],
      "metadata": {
        "id": "ZV-UdQ0A6epB"
      }
    },
    {
      "cell_type": "code",
      "source": [
        "A = [[1,2,3],[4,5,6]]\n",
        "B = [[7,8,9],[10,11,12]]\n",
        "C = []\n",
        "\n",
        "for i in range (len(A)):\n",
        "  baris = []\n",
        "  for j in range (len(A[0])):\n",
        "    baris.append(A[i][j] + B[i][j])\n",
        "  C.append (baris)\n",
        "print(C)"
      ],
      "metadata": {
        "colab": {
          "base_uri": "https://localhost:8080/"
        },
        "id": "Kq1IXHR56Mn6",
        "outputId": "a6097d17-5675-4cf5-97a7-0351978f7347"
      },
      "execution_count": null,
      "outputs": [
        {
          "output_type": "stream",
          "name": "stdout",
          "text": [
            "[[8, 10, 12], [14, 16, 18]]\n"
          ]
        }
      ]
    },
    {
      "cell_type": "markdown",
      "source": [
        "# Praktikum 6-Studi Kasus: Pengolahan Nilai Mahasiswa"
      ],
      "metadata": {
        "id": "al-vEnH_97SX"
      }
    },
    {
      "cell_type": "code",
      "source": [
        "nilai = [\n",
        "    [80, 90, 85],\n",
        "    [70, 75, 80],\n",
        "    [88, 92, 84]\n",
        "]\n",
        "\n",
        "for i, baris in enumerate(nilai, start=1):\n",
        "  rata = sum(baris) / len(baris)\n",
        "  print(f\"Rata-rata mahasiswa {i}: {rata:.2f}\")"
      ],
      "metadata": {
        "colab": {
          "base_uri": "https://localhost:8080/"
        },
        "id": "zaDbQy2h7gos",
        "outputId": "94ab1395-b2dc-43b4-dd5b-4cccb5cf3b32"
      },
      "execution_count": null,
      "outputs": [
        {
          "output_type": "stream",
          "name": "stdout",
          "text": [
            "Rata-rata mahasiswa 1: 85.00\n",
            "Rata-rata mahasiswa 2: 75.00\n",
            "Rata-rata mahasiswa 3: 88.00\n"
          ]
        }
      ]
    },
    {
      "cell_type": "markdown",
      "source": [
        "# Penugasan 1"
      ],
      "metadata": {
        "id": "w5UHrcx9jfOC"
      }
    },
    {
      "cell_type": "code",
      "source": [
        "mahasiswa = [\"Andi\", \"Budi\", \"cici\", \"Dolla\", \"Irfan\"]\n",
        "print(mahasiswa[0])\n",
        "print(mahasiswa[-1])\n",
        "print(mahasiswa[-2])"
      ],
      "metadata": {
        "id": "WAY0nZuN-sHO",
        "colab": {
          "base_uri": "https://localhost:8080/"
        },
        "outputId": "1e76d088-df6d-4203-b9c4-eb258c1d5758"
      },
      "execution_count": 3,
      "outputs": [
        {
          "output_type": "stream",
          "name": "stdout",
          "text": [
            "Andi\n",
            "Irfan\n",
            "Dolla\n"
          ]
        }
      ]
    },
    {
      "cell_type": "markdown",
      "source": [
        "# Penugasan 2"
      ],
      "metadata": {
        "id": "JorH9jTTkAir"
      }
    },
    {
      "cell_type": "code",
      "source": [
        "nilai = [70, 75, 80]\n",
        "nilai [1] = 85\n",
        "nilai.append(90)\n",
        "nilai.remove(70)\n",
        "print(nilai)"
      ],
      "metadata": {
        "colab": {
          "base_uri": "https://localhost:8080/"
        },
        "id": "4aWrzdX_jtvS",
        "outputId": "87c4b0c6-fe97-4fd5-f1d8-a61086aad8f3"
      },
      "execution_count": 12,
      "outputs": [
        {
          "output_type": "stream",
          "name": "stdout",
          "text": [
            "[85, 80, 90]\n"
          ]
        }
      ]
    },
    {
      "cell_type": "markdown",
      "source": [
        "# Penugasan 3"
      ],
      "metadata": {
        "id": "A5cCFqPDl6gf"
      }
    },
    {
      "cell_type": "code",
      "source": [
        "nilai = [1,2,3,4,5,6,7,8,9,10]\n",
        "print(nilai[0:3])\n",
        "print(nilai[-4:])\n",
        "print(nilai[1::2])"
      ],
      "metadata": {
        "colab": {
          "base_uri": "https://localhost:8080/"
        },
        "id": "hc66ULhBkP7U",
        "outputId": "cdbdd811-212b-434e-90b4-14bae55ea7af"
      },
      "execution_count": 15,
      "outputs": [
        {
          "output_type": "stream",
          "name": "stdout",
          "text": [
            "[1, 2, 3]\n",
            "[7, 8, 9, 10]\n",
            "[2, 4, 6, 8, 10]\n"
          ]
        }
      ]
    },
    {
      "cell_type": "markdown",
      "source": [
        "# Penugasan 4"
      ],
      "metadata": {
        "id": "AIJP7PE_nOFO"
      }
    },
    {
      "cell_type": "code",
      "source": [
        "matriks = [\n",
        "    [1, 2, 3],\n",
        "    [4, 5, 6]\n",
        "]\n",
        "\n",
        "print(matriks[0][1])\n",
        "print(matriks[1][2])\n",
        "print(matriks[0])"
      ],
      "metadata": {
        "colab": {
          "base_uri": "https://localhost:8080/"
        },
        "id": "UYZbdGD7mpQD",
        "outputId": "6121c2f0-ad76-43e4-b2fb-dd3b2c63d54b"
      },
      "execution_count": 16,
      "outputs": [
        {
          "output_type": "stream",
          "name": "stdout",
          "text": [
            "2\n",
            "6\n",
            "[1, 2, 3]\n"
          ]
        }
      ]
    },
    {
      "cell_type": "markdown",
      "source": [
        "# Penugasan 5"
      ],
      "metadata": {
        "id": "FHfRUG-5n0l8"
      }
    },
    {
      "cell_type": "code",
      "source": [
        "matriksA= [\n",
        "    [3, 4],\n",
        "    [7, 5]\n",
        "]\n",
        "matriksB = [\n",
        "    [6, 8],\n",
        "    [2, 9]\n",
        "]\n",
        "\n",
        "hasil = [\n",
        "    [0, 0],\n",
        "    [0, 0]\n",
        "    ]\n",
        "\n",
        "for i in range(len(matriksA)):\n",
        "    for j in range(len(matriksA[0])):\n",
        "        hasil[i][j] = matriksA[i][j] + matriksB[i][j]\n",
        "\n",
        "print(f\"Matriks A: {matriksA}\")\n",
        "print(f\"Matriks B: {matriksB}\")\n",
        "print(\"\\nHasil Penjumlahan Matriks A + B:\")\n",
        "\n",
        "for baris in hasil:\n",
        "    print(baris)"
      ],
      "metadata": {
        "colab": {
          "base_uri": "https://localhost:8080/"
        },
        "id": "mBfRNfzSnqxk",
        "outputId": "9b6b16eb-1505-442f-8d19-c3947d5b8dae"
      },
      "execution_count": 29,
      "outputs": [
        {
          "output_type": "stream",
          "name": "stdout",
          "text": [
            "Matriks A: [[3, 4], [7, 5]]\n",
            "Matriks B: [[6, 8], [2, 9]]\n",
            "\n",
            "Hasil Penjumlahan Matriks A + B:\n",
            "[9, 12]\n",
            "[9, 14]\n"
          ]
        }
      ]
    },
    {
      "cell_type": "markdown",
      "source": [
        "# Penugasan 6"
      ],
      "metadata": {
        "id": "24iEUt4Or0hM"
      }
    },
    {
      "cell_type": "code",
      "source": [
        "nilai = [\n",
        "    [75, 80, 85],\n",
        "    [60, 70, 65],\n",
        "    [90, 95, 92]\n",
        "]\n",
        "\n",
        "for i, baris in enumerate(nilai, start=1):\n",
        "  rata = sum(baris) / len(baris)\n",
        "  print(f\"Rata-rata mahasiswa {i}: {rata:.2f}\")"
      ],
      "metadata": {
        "colab": {
          "base_uri": "https://localhost:8080/"
        },
        "id": "Lwf3djf4opan",
        "outputId": "c260a6b1-0b6f-4147-8684-3a4e432cbc6f"
      },
      "execution_count": 38,
      "outputs": [
        {
          "output_type": "stream",
          "name": "stdout",
          "text": [
            "Rata-rata mahasiswa 1: 80.00\n",
            "Rata-rata mahasiswa 2: 65.00\n",
            "Rata-rata mahasiswa 3: 92.33\n"
          ]
        }
      ]
    },
    {
      "cell_type": "markdown",
      "source": [
        "Penugasan 7"
      ],
      "metadata": {
        "id": "atV6brIlsyMJ"
      }
    },
    {
      "cell_type": "code",
      "source": [
        "stok = [[\"Buku\", 20], [\"Pulpen\", 35], [\"Penghapus\", 15]]\n",
        "print(\"---Daftar stok barang---\")\n",
        "for item in stok:\n",
        "  nama = item[0]\n",
        "  jumlah_stok = item[1]\n",
        "  print(f\"- {nama}: {jumlah_stok} unit\")\n",
        "\n",
        "stok_terbanyak = max(stok, key=lambda item: item[1])\n",
        "\n",
        "print(\"\\n--- Stok Terbanyak ---\")\n",
        "print(f\"Barang dengan stok terbanyak adalah {stok_terbanyak[0]}\")\n",
        "print(f\"Jumlah stok: {stok_terbanyak[1]} unit\")\n"
      ],
      "metadata": {
        "colab": {
          "base_uri": "https://localhost:8080/"
        },
        "id": "wEc_zhtQsBAx",
        "outputId": "6928c516-d0db-4e71-8b8a-268a429ab75a"
      },
      "execution_count": 52,
      "outputs": [
        {
          "output_type": "stream",
          "name": "stdout",
          "text": [
            "---Daftar stok barang---\n",
            "- Buku: 20 unit\n",
            "- Pulpen: 35 unit\n",
            "- Penghapus: 15 unit\n",
            "\n",
            "--- Stok Terbanyak ---\n",
            "Barang dengan stok terbanyak adalah Pulpen\n",
            "Jumlah stok: 35 unit\n"
          ]
        }
      ]
    },
    {
      "cell_type": "code",
      "source": [],
      "metadata": {
        "id": "r7_U98UVvP20"
      },
      "execution_count": 48,
      "outputs": []
    }
  ]
}