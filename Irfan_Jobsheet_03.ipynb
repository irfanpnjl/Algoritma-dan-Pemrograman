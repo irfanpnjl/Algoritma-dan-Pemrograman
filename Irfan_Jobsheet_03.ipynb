{
  "nbformat": 4,
  "nbformat_minor": 0,
  "metadata": {
    "colab": {
      "provenance": [],
      "authorship_tag": "ABX9TyOefjX4tjV02pUPeuBE2nvl",
      "include_colab_link": true
    },
    "kernelspec": {
      "name": "python3",
      "display_name": "Python 3"
    },
    "language_info": {
      "name": "python"
    }
  },
  "cells": [
    {
      "cell_type": "markdown",
      "metadata": {
        "id": "view-in-github",
        "colab_type": "text"
      },
      "source": [
        "<a href=\"https://colab.research.google.com/github/irfanpnjl/Algoritma-dan-Pemrograman/blob/main/Irfan_Jobsheet_03.ipynb\" target=\"_parent\"><img src=\"https://colab.research.google.com/assets/colab-badge.svg\" alt=\"Open In Colab\"/></a>"
      ]
    },
    {
      "cell_type": "code",
      "execution_count": null,
      "metadata": {
        "id": "kkIlB4IEcaT_"
      },
      "outputs": [],
      "source": []
    },
    {
      "cell_type": "markdown",
      "source": [
        "# Praktikum 01 - if sederhana"
      ],
      "metadata": {
        "id": "FWCWuwnycnUl"
      }
    },
    {
      "cell_type": "code",
      "source": [
        "nilai = int(input(\"Masukkan nilai ujian: \"))\n",
        "if nilai >= 60:\n",
        "  print(\"Anda LULUS\")"
      ],
      "metadata": {
        "colab": {
          "base_uri": "https://localhost:8080/"
        },
        "id": "jKVg_XENcrWZ",
        "outputId": "6f5f0d44-be7d-40cf-8b2d-665785777fde"
      },
      "execution_count": 1,
      "outputs": [
        {
          "output_type": "stream",
          "name": "stdout",
          "text": [
            "Masukkan nilai ujian: 70\n",
            "Anda LULUS\n"
          ]
        }
      ]
    },
    {
      "cell_type": "code",
      "source": [],
      "metadata": {
        "id": "BtF9RGvWeF7C"
      },
      "execution_count": null,
      "outputs": []
    },
    {
      "cell_type": "markdown",
      "source": [
        "# Praktikum 02 - if-else\n"
      ],
      "metadata": {
        "id": "eJJzLCUceMRm"
      }
    },
    {
      "cell_type": "code",
      "source": [
        "nilai = int(input(\"Masukkan nilai ujian: \"))\n",
        "if nilai >= 60:\n",
        "  print(\"Anda LULUS\")\n",
        "else:\n",
        "  print(\"Anda TIDAK LULUS\")"
      ],
      "metadata": {
        "colab": {
          "base_uri": "https://localhost:8080/"
        },
        "id": "gI9bsRUqeU9v",
        "outputId": "82513967-74e4-4d20-94e2-eed3f6386f93"
      },
      "execution_count": 2,
      "outputs": [
        {
          "output_type": "stream",
          "name": "stdout",
          "text": [
            "Masukkan nilai ujian: 50\n",
            "Anda TIDAK LULUS\n"
          ]
        }
      ]
    },
    {
      "cell_type": "markdown",
      "source": [
        "# Praktikum 03 - if-elif-else"
      ],
      "metadata": {
        "id": "n7W3Xfopfyif"
      }
    },
    {
      "cell_type": "code",
      "source": [
        "nilai = int(input(\"Masukkan nilai ujian: \"))\n",
        "if nilai >= 85:\n",
        " grade = \"A\"\n",
        "elif nilai >= 70:\n",
        "  grade = \"B\"\n",
        "elif nilai >= 55:\n",
        "  grade = \"C\"\n",
        "elif nilai >=40:\n",
        "  grade = \"D\"\n",
        "else:\n",
        "  grade = \"E\"\n",
        "print(f\"Nilai Anda {nilai}, maka grade Anda = {grade}\")"
      ],
      "metadata": {
        "colab": {
          "base_uri": "https://localhost:8080/"
        },
        "id": "MiilSEpQf5dK",
        "outputId": "9f29aa09-e2d4-41b8-ef5b-3204a3dee096"
      },
      "execution_count": 3,
      "outputs": [
        {
          "output_type": "stream",
          "name": "stdout",
          "text": [
            "Masukkan nilai ujian: 78\n",
            "Nilai Anda 78, maka grade Anda = B\n"
          ]
        }
      ]
    },
    {
      "cell_type": "markdown",
      "source": [
        "# Praktikum 04 - nested if"
      ],
      "metadata": {
        "id": "uyqEgHHOlxMJ"
      }
    },
    {
      "cell_type": "code",
      "source": [
        "ipk = float(input(\"Masukkan IPK :\"))\n",
        "sks = int(input(\"masukkan jumlah sks: \"))\n",
        "\n",
        "if ipk >= 3.0:\n",
        "  if sks >= 18:\n",
        "    print(\"Anda layak mendapatkan beasiswa\")\n",
        "  else:\n",
        "    print(\"IPK memenuhi, tapi SKS kurang\")\n",
        "else:\n",
        "  print(\"Anda TIDAK layak mendapatkan beasiswa\")"
      ],
      "metadata": {
        "id": "T5oRwEjwmEOp",
        "colab": {
          "base_uri": "https://localhost:8080/"
        },
        "outputId": "99397313-324a-4552-8604-ccd8b9a34369"
      },
      "execution_count": 6,
      "outputs": [
        {
          "output_type": "stream",
          "name": "stdout",
          "text": [
            "Masukkan IPK :2.8\n",
            "masukkan jumlah sks: 20\n",
            "Anda TIDAK layak mendapatkan beasiswa\n"
          ]
        }
      ]
    },
    {
      "cell_type": "markdown",
      "source": [
        "# Praktikum 05 - math-case"
      ],
      "metadata": {
        "id": "LugXagFInVsg"
      }
    },
    {
      "cell_type": "code",
      "source": [
        "menu = int(input(\"Pilih menu (1-3): \"))\n",
        "match menu:\n",
        "  case 1:\n",
        "    print(\"Anda memilih Nasi Goreng\")\n",
        "  case 2:\n",
        "    print(\"Anda memilih Mie Ayam\")\n",
        "  case 3:\n",
        "    print(\"Anda memilih Soto Ayam\")\n",
        "  case _:\n",
        "    print(\"Menu tidak tersedia\")"
      ],
      "metadata": {
        "colab": {
          "base_uri": "https://localhost:8080/"
        },
        "id": "1cOu_t-EnbMd",
        "outputId": "a577d9d6-f27f-4518-eb11-636fb3901dc7"
      },
      "execution_count": 8,
      "outputs": [
        {
          "output_type": "stream",
          "name": "stdout",
          "text": [
            "Pilih menu (1-3): 9\n",
            "Menu tidak tersedia\n"
          ]
        }
      ]
    },
    {
      "cell_type": "markdown",
      "source": [
        "# Praktikum 06 - studi kasus: program kasir"
      ],
      "metadata": {
        "id": "3WoGgzTOn_jr"
      }
    },
    {
      "cell_type": "code",
      "source": [
        "barang = input(\"Masukkan nama barang: \")\n",
        "harga = float(input(\"Masukkan harga barang: \"))\n",
        "jumlah = int(input(\"Masukkan jumlah barang: \"))\n",
        "\n",
        "total = harga * jumlah\n",
        "if total >= 500000:\n",
        "  diskon = 0.2\n",
        "elif total >= 250000:\n",
        "  diskon = 0.1\n",
        "else:\n",
        "  diskon = 0\n",
        "\n",
        "bayar = total - (total * diskon)\n",
        "\n",
        "print(\"\\n===== Struk Belanja =====\")\n",
        "print(f\"Barang : {barang}\")\n",
        "print(f\"Jumlah : {jumlah}\")\n",
        "print(f\"Total : Rp {total}\")\n",
        "print(f\"Diskon : {diskon*100}%\")\n",
        "print(f\"Bayar : Rp {bayar}\")"
      ],
      "metadata": {
        "id": "c8EPWNImoHiD",
        "colab": {
          "base_uri": "https://localhost:8080/"
        },
        "outputId": "a9f2b20b-4019-40ad-e017-fb2b322fa3cf"
      },
      "execution_count": 11,
      "outputs": [
        {
          "output_type": "stream",
          "name": "stdout",
          "text": [
            "Masukkan nama barang: Pulpen\n",
            "Masukkan harga barang: 5000\n",
            "Masukkan jumlah barang: 10\n",
            "\n",
            "===== Struk Belanja =====\n",
            "Barang : Pulpen\n",
            "Jumlah : 10\n",
            "Total : Rp 50000.0\n",
            "Diskon : 0%\n",
            "Bayar : Rp 50000.0\n"
          ]
        }
      ]
    },
    {
      "cell_type": "markdown",
      "source": [
        "# Penugasan: Cek Bil"
      ],
      "metadata": {
        "id": "YDs3z8OZU4Sv"
      }
    },
    {
      "cell_type": "code",
      "source": [
        "bil = int(input(\"Masukkan bilangan bulat: \"))\n",
        "\n",
        "if bil > 0:\n",
        "  print(\"Bilangan bulat positif\")\n",
        "elif bil == 0:\n",
        "  print(\"Bilangan Nol\")\n",
        "else:\n",
        "  print(\"Bilangan bulat negatif\")"
      ],
      "metadata": {
        "colab": {
          "base_uri": "https://localhost:8080/"
        },
        "id": "oUmxyTcMU9bD",
        "outputId": "6e555f3e-d6ac-44ea-c917-4a9924b5070c"
      },
      "execution_count": null,
      "outputs": [
        {
          "output_type": "stream",
          "name": "stdout",
          "text": [
            "Masukkan bilangan bulat: 1\n",
            "Bilangan bulat positif\n"
          ]
        }
      ]
    },
    {
      "cell_type": "markdown",
      "source": [
        "# Penugasan: menentukan kategori usia"
      ],
      "metadata": {
        "id": "75R6X9G3WXZj"
      }
    },
    {
      "cell_type": "code",
      "source": [
        "usia = int(input(\"Masukkan usia: \"))\n",
        "\n",
        "if usia >= 60:\n",
        "  print(\"Lansia\")\n",
        "elif usia >= 18 <=59:\n",
        "  print(\"Dewasa\")\n",
        "elif usia >= 12 <=17:\n",
        "  print(\"Remaja\")\n",
        "elif usia >= 5 <= 11:\n",
        "  print(\"Anak-anak\")\n",
        "else:\n",
        "  print(\"Balita\")"
      ],
      "metadata": {
        "colab": {
          "base_uri": "https://localhost:8080/"
        },
        "id": "CPM5i_-iW9ak",
        "outputId": "ebc8ce7b-30d1-4a29-c865-b391e10a50ce"
      },
      "execution_count": 12,
      "outputs": [
        {
          "output_type": "stream",
          "name": "stdout",
          "text": [
            "Masukkan usia: 18\n",
            "Dewasa\n"
          ]
        }
      ]
    },
    {
      "cell_type": "markdown",
      "source": [
        "# Penugasan: hitung tarif parkir"
      ],
      "metadata": {
        "id": "_gZGliXMZ1iq"
      }
    },
    {
      "cell_type": "code",
      "source": [
        "jam_mulai = int(input(\"Masukkan jam  mulai parkir: \"))\n",
        "jam_selesai = int(input(\"Masukkan jam selesai parkir: \"))\n",
        "\n",
        "lama_parkir = jam_selesai - jam_mulai\n",
        "\n",
        "if lama_parkir <= 2:\n",
        "  tarif = 5000\n",
        "  print(\"Lama parkir: \", lama_parkir, \"jam, tarif parkir: Rp\", tarif)\n",
        "\n",
        "elif lama_parkir > 2:\n",
        "  tarif = 5000 + (lama_parkir -2) * 2000\n",
        "  if tarif >20000:\n",
        "    tarif = 20000\n",
        "  print(\"Lama parkir: \", lama_parkir, \"jam, tarif parkir: Rp\", tarif)\n",
        "\n",
        "else:\n",
        "  print(\"tarif gratis\")\n",
        "\n",
        "\n"
      ],
      "metadata": {
        "id": "2R3665KYXRc5",
        "colab": {
          "base_uri": "https://localhost:8080/"
        },
        "outputId": "58163955-1314-4080-e24f-985662d9746c"
      },
      "execution_count": null,
      "outputs": [
        {
          "output_type": "stream",
          "name": "stdout",
          "text": [
            "Masukkan jam  mulai parkir: 1\n",
            "Masukkan jam selesai parkir: 8\n",
            "Lama parkir:  7 jam, tarif parkir: Rp 15000\n"
          ]
        }
      ]
    },
    {
      "cell_type": "markdown",
      "source": [
        "# Penugasan: cek login sederhana"
      ],
      "metadata": {
        "id": "9LyCQlUiDFna"
      }
    },
    {
      "cell_type": "code",
      "source": [
        "username = str(input(\"Masukkan Username: \"))\n",
        "password = str(input(\"Masukkan Password: \"))\n",
        "\n",
        "if username == \"admin\" and password == \"123\":\n",
        "  print(\"Login berhasil\")\n",
        "else:\n",
        "  print(\"Login gagal\")"
      ],
      "metadata": {
        "colab": {
          "base_uri": "https://localhost:8080/"
        },
        "id": "7mAOLcac5UzP",
        "outputId": "5142813b-0922-4afb-e88a-858694201064"
      },
      "execution_count": 13,
      "outputs": [
        {
          "output_type": "stream",
          "name": "stdout",
          "text": [
            "Masukkan Username: admin\n",
            "Masukkan Password: 123\n",
            "Login berhasil\n"
          ]
        }
      ]
    },
    {
      "cell_type": "markdown",
      "source": [
        "# Penugasan: One-Liner if"
      ],
      "metadata": {
        "id": "vljuxJuuFi0L"
      }
    },
    {
      "cell_type": "code",
      "source": [
        "angka = int(input(\"Masukkan angka: \"))\n",
        "status = \"Genap\" if angka % 2 == 0 else \"Ganjil\"\n",
        "print(f\"Bilangan: {status}\")"
      ],
      "metadata": {
        "colab": {
          "base_uri": "https://localhost:8080/"
        },
        "id": "qF-5wp_uFRLi",
        "outputId": "1e557445-b14f-47df-ddd9-6068213cafd0"
      },
      "execution_count": null,
      "outputs": [
        {
          "output_type": "stream",
          "name": "stdout",
          "text": [
            "Masukkan angka: 7\n",
            "Bilangan: Ganjil\n"
          ]
        }
      ]
    },
    {
      "cell_type": "markdown",
      "source": [
        "# Penugasan: menu restoran dengan match-case"
      ],
      "metadata": {
        "id": "aQmI4ttYHGKf"
      }
    },
    {
      "cell_type": "code",
      "source": [
        "menu = int(input(\"Pilih menu (1-3): \"))\n",
        "match menu:\n",
        "  case 1:\n",
        "    print(\"Anda memilih Nasi Goreng\")\n",
        "  case 2:\n",
        "    print(\"Anda memilih Mie Ayam\")\n",
        "  case 3:\n",
        "    print(\"Anda memilih Soto Ayam\")\n",
        "  case _:\n",
        "      print(\"Menu tidak tersedia\")"
      ],
      "metadata": {
        "colab": {
          "base_uri": "https://localhost:8080/"
        },
        "id": "t9A62BIcG_wL",
        "outputId": "f7daab98-e1c6-49f7-e025-4ba1a7206e88"
      },
      "execution_count": null,
      "outputs": [
        {
          "output_type": "stream",
          "name": "stdout",
          "text": [
            "Pilih menu (1-3): 4\n",
            "Menu tidak tersedia\n"
          ]
        }
      ]
    },
    {
      "cell_type": "markdown",
      "source": [
        "# Penugasan: studi kasus diskon"
      ],
      "metadata": {
        "id": "XwyWQDjZLfG5"
      }
    },
    {
      "cell_type": "code",
      "source": [
        "barang = input(\"Masukkan nama barang: \")\n",
        "harga = float(input(\"Masukkan harga barang: \"))\n",
        "jumlah = int(input(\"Masukkan jumlah barang: \"))\n",
        "\n",
        "total = harga * jumlah\n",
        "if total >= 500000:\n",
        "  diskon = 0.2\n",
        "elif total >= 250000:\n",
        "  diskon = 0.1\n",
        "else:\n",
        "  diskon = 0\n",
        "\n",
        "bayar = total - (total * diskon)\n",
        "\n",
        "print(\"\\n===== Struk Belanja =====\")\n",
        "print(f\"Nama Barang : {barang}\")\n",
        "print(f\"Jumlah Baranga : {jumlah}\")\n",
        "print(f\"Total : Rp {total}\")\n",
        "print(f\"Total Diskon : {diskon*100}%\")\n",
        "print(f\"Jumlah Bayar : Rp {bayar}\")"
      ],
      "metadata": {
        "colab": {
          "base_uri": "https://localhost:8080/"
        },
        "id": "tdZkvj5-K_AO",
        "outputId": "4a16a9f8-d6d7-41b6-d2ef-7db275fbc666"
      },
      "execution_count": null,
      "outputs": [
        {
          "output_type": "stream",
          "name": "stdout",
          "text": [
            "Masukkan nama barang: sepatu\n",
            "Masukkan harga barang: 500000\n",
            "Masukkan jumlah barang: 2\n",
            "\n",
            "===== Struk Belanja =====\n",
            "Nama Barang : sepatu\n",
            "Jumlah Baranga : 2\n",
            "Total : Rp 1000000.0\n",
            "Total Diskon : 20.0%\n",
            "Jumlah Bayar : Rp 800000.0\n"
          ]
        }
      ]
    },
    {
      "cell_type": "code",
      "source": [],
      "metadata": {
        "id": "7-rl6AXdRkBl"
      },
      "execution_count": null,
      "outputs": []
    }
  ]
}