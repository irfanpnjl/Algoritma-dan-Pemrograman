{
  "nbformat": 4,
  "nbformat_minor": 0,
  "metadata": {
    "colab": {
      "provenance": [],
      "authorship_tag": "ABX9TyMFkgu7K/IFU6T9khnWsGba",
      "include_colab_link": true
    },
    "kernelspec": {
      "name": "python3",
      "display_name": "Python 3"
    },
    "language_info": {
      "name": "python"
    }
  },
  "cells": [
    {
      "cell_type": "markdown",
      "metadata": {
        "id": "view-in-github",
        "colab_type": "text"
      },
      "source": [
        "<a href=\"https://colab.research.google.com/github/irfanpnjl/Algoritma-dan-Pemrograman/blob/main/Irfan_Jobsheet_05.ipynb\" target=\"_parent\"><img src=\"https://colab.research.google.com/assets/colab-badge.svg\" alt=\"Open In Colab\"/></a>"
      ]
    },
    {
      "cell_type": "markdown",
      "source": [
        "# Praktikum 1-Indexing dan Slicing"
      ],
      "metadata": {
        "id": "j-OkTSHhui9z"
      }
    },
    {
      "cell_type": "code",
      "execution_count": null,
      "metadata": {
        "colab": {
          "base_uri": "https://localhost:8080/"
        },
        "id": "Dwr0uVlRuSoX",
        "outputId": "04c38a78-7749-4548-dd79-04e4540eed92"
      },
      "outputs": [
        {
          "output_type": "stream",
          "name": "stdout",
          "text": [
            "P\n",
            "Politeknik \n",
            "Semarang\n"
          ]
        }
      ],
      "source": [
        "teks = \"Politeknik Negeri Semarang\"\n",
        "print(teks[0])\n",
        "print(teks[0:11])\n",
        "print(teks[-8:])"
      ]
    },
    {
      "cell_type": "markdown",
      "source": [
        "# Praktikum 2-Method Bawaan String"
      ],
      "metadata": {
        "id": "mOFsGyQkvTi-"
      }
    },
    {
      "cell_type": "code",
      "source": [
        "teks = \" Politeknik Negeri Semarang \"\n",
        "print(teks.upper())\n",
        "print(teks.lower())\n",
        "print(teks.title())\n",
        "print(teks.strip())\n",
        "print(teks.split(\" \"))\n",
        "print(\"-\".join([\"Politeknik\", \"Negeri\", \"Semarang\"]))"
      ],
      "metadata": {
        "colab": {
          "base_uri": "https://localhost:8080/"
        },
        "id": "MfSkuDRRu8Sn",
        "outputId": "93edcb08-f593-48ed-bd2a-791fe5295345"
      },
      "execution_count": null,
      "outputs": [
        {
          "output_type": "stream",
          "name": "stdout",
          "text": [
            " POLITEKNIK NEGERI SEMARANG \n",
            " politeknik negeri semarang \n",
            " Politeknik Negeri Semarang \n",
            "Politeknik Negeri Semarang\n",
            "['', 'Politeknik', 'Negeri', 'Semarang', '']\n",
            "Politeknik-Negeri-Semarang\n"
          ]
        }
      ]
    },
    {
      "cell_type": "markdown",
      "source": [
        "# Praktikum 3-Validasi Password"
      ],
      "metadata": {
        "id": "vOSOlWERwTnR"
      }
    },
    {
      "cell_type": "code",
      "source": [
        "password = input(\"Masukkan password: \")\n",
        "\n",
        "if len(password) >= 8:\n",
        "  print(\"Password valid\")\n",
        "else:\n",
        "  print(\"Password terlalu pendek\")"
      ],
      "metadata": {
        "colab": {
          "base_uri": "https://localhost:8080/"
        },
        "id": "TM24wrPhwKxg",
        "outputId": "3307f066-31c1-424b-e3cd-edaca50a79ff"
      },
      "execution_count": 3,
      "outputs": [
        {
          "output_type": "stream",
          "name": "stdout",
          "text": [
            "Masukkan password: abc\n",
            "Password terlalu pendek\n"
          ]
        }
      ]
    },
    {
      "cell_type": "markdown",
      "source": [
        "# Praktikum 4-string Formating dengan F-String"
      ],
      "metadata": {
        "id": "swuGCW5JxBgn"
      }
    },
    {
      "cell_type": "code",
      "source": [
        "nama = input(\"Masukkan nama anda: \")\n",
        "umur = int(input(\"Masukkan umur: \"))\n",
        "\n",
        "print(f\"Nama saya {nama}, umur {umur} tahun.\")"
      ],
      "metadata": {
        "colab": {
          "base_uri": "https://localhost:8080/"
        },
        "id": "O9jn9DqXw8gy",
        "outputId": "399c9cc4-975c-4977-b5ed-f2241e90beef"
      },
      "execution_count": 2,
      "outputs": [
        {
          "output_type": "stream",
          "name": "stdout",
          "text": [
            "Masukkan nama anda: Budi\n",
            "Masukkan umur: 21\n",
            "Nama saya Budi, umur 21 tahun.\n"
          ]
        }
      ]
    },
    {
      "cell_type": "markdown",
      "source": [
        "# Praktikum 5-Operasi dalam F-String"
      ],
      "metadata": {
        "id": "KwRgskd5xpVv"
      }
    },
    {
      "cell_type": "code",
      "source": [
        "a = int(input(\"Masukkan nilai a: \"))\n",
        "b = int(input(\"Masukkan nilai b: \"))\n",
        "\n",
        "print(f\"Hasil penjumlahan {a}+{b} = {a+b}\")\n",
        "print(f\"Hasil pembagian {a}/{b} = {a/b:.2f}\")"
      ],
      "metadata": {
        "colab": {
          "base_uri": "https://localhost:8080/"
        },
        "id": "oDgJMgaexhMi",
        "outputId": "95490992-e37a-4005-96a4-1b5fb3425e58"
      },
      "execution_count": 4,
      "outputs": [
        {
          "output_type": "stream",
          "name": "stdout",
          "text": [
            "Masukkan nilai a: 10\n",
            "Masukkan nilai b: 3\n",
            "Hasil penjumlahan 10+3 = 13\n",
            "Hasil pembagian 10/3 = 3.33\n"
          ]
        }
      ]
    },
    {
      "cell_type": "markdown",
      "source": [
        "# Praktikum 6-Casting String"
      ],
      "metadata": {
        "id": "ndfeoIL4ydQm"
      }
    },
    {
      "cell_type": "code",
      "source": [
        "angka = 123\n",
        "teks = \"456\"\n",
        "\n",
        "print(\"Nilai: \" + str(angka))\n",
        "print(int(teks) + 10)"
      ],
      "metadata": {
        "colab": {
          "base_uri": "https://localhost:8080/"
        },
        "id": "kvjJrE9tyYau",
        "outputId": "101e737a-b419-4b8e-fc33-f4fcf0879a13"
      },
      "execution_count": 6,
      "outputs": [
        {
          "output_type": "stream",
          "name": "stdout",
          "text": [
            "Nilai: 123\n",
            "466\n"
          ]
        }
      ]
    },
    {
      "cell_type": "markdown",
      "source": [
        "# Praktikum 7-Studi kasus Nyata: Analisis Kalimat"
      ],
      "metadata": {
        "id": "RF7BM9xlzC32"
      }
    },
    {
      "cell_type": "code",
      "source": [
        "kalimat = \"Saya kuliah di Politeknik Negeri Semarang\"\n",
        "daftar_kata = kalimat.split(\" \")\n",
        "\n",
        "print(f\"Jumlah kata: {len(daftar_kata)}\")\n",
        "for i, kata in enumerate(daftar_kata, start=1):\n",
        "  print(i, kata)"
      ],
      "metadata": {
        "colab": {
          "base_uri": "https://localhost:8080/"
        },
        "id": "JmUreH06zAJz",
        "outputId": "a056959e-915d-450a-b053-287054e1d6c0"
      },
      "execution_count": 7,
      "outputs": [
        {
          "output_type": "stream",
          "name": "stdout",
          "text": [
            "Jumlah kata: 6\n",
            "1 Saya\n",
            "2 kuliah\n",
            "3 di\n",
            "4 Politeknik\n",
            "5 Negeri\n",
            "6 Semarang\n"
          ]
        }
      ]
    },
    {
      "cell_type": "markdown",
      "source": [
        "# Penugasan 1"
      ],
      "metadata": {
        "id": "_RHpVKkElPFo"
      }
    },
    {
      "cell_type": "code",
      "source": [
        "teks = \"Politeknik Negeri Semarang\"\n",
        "print(teks[0])\n",
        "print(teks[-1])\n",
        "print(teks[11:17])"
      ],
      "metadata": {
        "id": "2Jff4Mm2z2Og",
        "colab": {
          "base_uri": "https://localhost:8080/"
        },
        "outputId": "a9d26601-d96e-446e-aaf8-a844c746eadf"
      },
      "execution_count": null,
      "outputs": [
        {
          "output_type": "stream",
          "name": "stdout",
          "text": [
            "P\n",
            "g\n",
            "Negeri\n"
          ]
        }
      ]
    },
    {
      "cell_type": "markdown",
      "source": [
        "# Penugasan 2"
      ],
      "metadata": {
        "id": "v2gPJRMdmARF"
      }
    },
    {
      "cell_type": "code",
      "source": [
        "teks = str(input(\"Masukkan sebuah kalimat: \"))\n",
        "\n",
        "print(f\"Semua huruf besar: {teks.upper()}\")\n",
        "print(f\"Semua huruf kecil: {teks.lower()}\")\n",
        "print(f\"Panjang kalimat: {len(teks)} karakter\")"
      ],
      "metadata": {
        "colab": {
          "base_uri": "https://localhost:8080/"
        },
        "id": "aqPPQfQdlfG3",
        "outputId": "70187353-cd15-4f6d-d28e-794d5767c3d3"
      },
      "execution_count": null,
      "outputs": [
        {
          "output_type": "stream",
          "name": "stdout",
          "text": [
            "Masukkan sebuah kalimat: Politeknik Negeri Semarang\n",
            "Semua huruf besar: POLITEKNIK NEGERI SEMARANG\n",
            "Semua huruf kecil: politeknik negeri semarang\n",
            "Panjang kalimat: 26 karakter\n"
          ]
        }
      ]
    },
    {
      "cell_type": "markdown",
      "source": [
        "# Penugasan 3"
      ],
      "metadata": {
        "id": "bS7Jd8IQoX4Y"
      }
    },
    {
      "cell_type": "code",
      "source": [
        "username = input(\"Masukkan username: \")\n",
        "\n",
        "if username.isalnum():\n",
        "  print(\"Username valid\")\n",
        "else:\n",
        "  print(\"Username tidak valid\")"
      ],
      "metadata": {
        "colab": {
          "base_uri": "https://localhost:8080/"
        },
        "id": "OQW8oPO1nqnu",
        "outputId": "aa83250a-aabe-408f-e42d-2233329bdc7a"
      },
      "execution_count": null,
      "outputs": [
        {
          "output_type": "stream",
          "name": "stdout",
          "text": [
            "Masukkan username: polines jaya\n",
            "Username tidak valid\n"
          ]
        }
      ]
    },
    {
      "cell_type": "markdown",
      "source": [
        "# Penugasan 4"
      ],
      "metadata": {
        "id": "sP1af33Fo-8d"
      }
    },
    {
      "cell_type": "code",
      "source": [
        "nama = input(\"Masukkan nama anda: \")\n",
        "umur = int(input(\"Masukkan umur: \"))\n",
        "jurusan = input(\"Masukkan jurusan: \")\n",
        "\n",
        "print(f\"Nama: {nama}\")\n",
        "print(f\"Umur: {umur}\")\n",
        "print(f\"Jurusan: {jurusan}\")"
      ],
      "metadata": {
        "colab": {
          "base_uri": "https://localhost:8080/"
        },
        "id": "gwAbFhQwouse",
        "outputId": "661f4193-5155-4316-b827-e1f1052fe5ae"
      },
      "execution_count": 8,
      "outputs": [
        {
          "output_type": "stream",
          "name": "stdout",
          "text": [
            "Masukkan nama anda: Andi\n",
            "Masukkan umur: 20\n",
            "Masukkan jurusan: Teknologi Rekayasa Komputer\n",
            "Nama: Andi\n",
            "Umur: 20\n",
            "Jurusan: Teknologi Rekayasa Komputer\n"
          ]
        }
      ]
    },
    {
      "cell_type": "markdown",
      "source": [
        "# Penugasan 5"
      ],
      "metadata": {
        "id": "ft8NldX7pwby"
      }
    },
    {
      "cell_type": "code",
      "source": [
        "a = int(input(\"Masukkan nilai a: \"))\n",
        "b = int(input(\"Masukkan nilai b: \"))\n",
        "\n",
        "print(f\"Hasil penjumlahan {a}+{b} = {a+b}\")\n",
        "print(f\"Hasil perkalian {a}*{b} = {a*b}\")\n",
        "print(f\"Hasil pembagian {a}/{b} = {a/b:.3f}\")"
      ],
      "metadata": {
        "colab": {
          "base_uri": "https://localhost:8080/"
        },
        "id": "pibc9YscprSW",
        "outputId": "93bdaa8f-559f-4eaa-8b31-de47763f3552"
      },
      "execution_count": 9,
      "outputs": [
        {
          "output_type": "stream",
          "name": "stdout",
          "text": [
            "Masukkan nilai a: 17\n",
            "Masukkan nilai b: 3\n",
            "Hasil penjumlahan 17+3 = 20\n",
            "Hasil perkalian 17*3 = 51\n",
            "Hasil pembagian 17/3 = 5.667\n"
          ]
        }
      ]
    },
    {
      "cell_type": "markdown",
      "source": [
        "# Penugasan 6"
      ],
      "metadata": {
        "id": "FLQA4hghqbhC"
      }
    },
    {
      "cell_type": "code",
      "source": [
        "angka = str(input(\"Masukkan angka: \"))\n",
        "\n",
        "\n",
        "print(angka, \"kuadrat\", int(angka)**2)\n",
        "angka_float=float(angka)\n",
        "print(f\"{angka_float:.2f}\")"
      ],
      "metadata": {
        "colab": {
          "base_uri": "https://localhost:8080/"
        },
        "id": "zTVLtCQQqQ32",
        "outputId": "e18a5351-204e-4c1b-daff-4fdfec697d71"
      },
      "execution_count": 10,
      "outputs": [
        {
          "output_type": "stream",
          "name": "stdout",
          "text": [
            "Masukkan angka: 17\n",
            "17 kuadrat 289\n",
            "17.00\n"
          ]
        }
      ]
    },
    {
      "cell_type": "markdown",
      "source": [
        "# Penugasan 7"
      ],
      "metadata": {
        "id": "dLHIdwwvuh--"
      }
    },
    {
      "cell_type": "code",
      "source": [
        "# 1. Membaca kalimat dari pengguna\n",
        "kalimat = input(\"Masukkan sebuah kalimat: \")\n",
        "\n",
        "\n",
        "print(\"\\n--- Hasil Analisis Teks ---\")\n",
        "\n",
        "jumlah_kata = len(kalimat)\n",
        "print(f\"1. Jumlah kata: {jumlah_kata}\")\n",
        "\n",
        "kata_terpanjang = max(kalimat, key=len)\n",
        "print(f\"2. Kata terpanjang: {kata_terpanjang}\")\n",
        "\n",
        "kata_terurut = sorted(kalimat, key=str.lower)\n",
        "print(f\"3. Urutan abjad: {kata_terurut}\")"
      ],
      "metadata": {
        "colab": {
          "base_uri": "https://localhost:8080/"
        },
        "id": "w2rZghgErOOs",
        "outputId": "9b15a56f-8dec-43e9-8eb5-9a4f8cc66630"
      },
      "execution_count": 11,
      "outputs": [
        {
          "output_type": "stream",
          "name": "stdout",
          "text": [
            "Masukkan sebuah kalimat: Politeknik Negeri Semarang\n",
            "\n",
            "--- Hasil Analisis Teks ---\n",
            "1. Jumlah kata: 26\n",
            "2. Kata terpanjang: P\n",
            "3. Urutan abjad: [' ', ' ', 'a', 'a', 'e', 'e', 'e', 'e', 'g', 'g', 'i', 'i', 'i', 'k', 'k', 'l', 'm', 'n', 'N', 'n', 'o', 'P', 'r', 'r', 'S', 't']\n"
          ]
        }
      ]
    },
    {
      "cell_type": "code",
      "source": [],
      "metadata": {
        "id": "e2-rZv9hvrSL"
      },
      "execution_count": null,
      "outputs": []
    }
  ]
}