{
  "nbformat": 4,
  "nbformat_minor": 0,
  "metadata": {
    "colab": {
      "provenance": [],
      "authorship_tag": "ABX9TyPmXs3YCL5SHDgTJhe3qdNF",
      "include_colab_link": true
    },
    "kernelspec": {
      "name": "python3",
      "display_name": "Python 3"
    },
    "language_info": {
      "name": "python"
    }
  },
  "cells": [
    {
      "cell_type": "markdown",
      "metadata": {
        "id": "view-in-github",
        "colab_type": "text"
      },
      "source": [
        "<a href=\"https://colab.research.google.com/github/irfanpnjl/Algoritma-dan-Pemrograman/blob/main/Irfan_Jobsheet_01.ipynb\" target=\"_parent\"><img src=\"https://colab.research.google.com/assets/colab-badge.svg\" alt=\"Open In Colab\"/></a>"
      ]
    },
    {
      "cell_type": "code",
      "execution_count": null,
      "metadata": {
        "id": "52GjFnxSOhiD"
      },
      "outputs": [],
      "source": []
    },
    {
      "cell_type": "markdown",
      "source": [
        "# Praktikum 01. Menghitung Luas Persegi Panjang"
      ],
      "metadata": {
        "id": "Q9qOihSrQEOf"
      }
    },
    {
      "cell_type": "code",
      "source": [
        "p = int(input(\"Masukkan Persegi Panjang: \"))\n",
        "l = int(input(\"Masukkan Lebar: \"))\n",
        "luas = p * l\n",
        "print(\"Luas Persegi Panjang = \", luas)"
      ],
      "metadata": {
        "colab": {
          "base_uri": "https://localhost:8080/"
        },
        "id": "Tvj8vC04Qkh7",
        "outputId": "977ddc31-5146-485b-b659-c63e6f0c27c7"
      },
      "execution_count": null,
      "outputs": [
        {
          "output_type": "stream",
          "name": "stdout",
          "text": [
            "Masukkan Persegi Panjang: 3\n",
            "Masukkan Lebar: 6\n",
            "Luas Persegi Panjang =  18\n"
          ]
        }
      ]
    },
    {
      "cell_type": "markdown",
      "source": [
        "# Praktikum 02. Menghitung Luas Segitiga"
      ],
      "metadata": {
        "id": "mJaUX2z6TQMb"
      }
    },
    {
      "cell_type": "code",
      "source": [
        "import math\n",
        "\n",
        "a = float (input(\"Masukkan sisi a: \"))\n",
        "b = float (input(\"Masukkan sisi b: \"))\n",
        "c = float (input(\"Masukkan sisi c: \"))\n",
        "\n",
        "s = (a + b + c) / 2\n",
        "luas = math.sqrt (s * (s - a) * (s - b) * (s - c))\n",
        "print (\"Luas Segitiga = \", luas)\n"
      ],
      "metadata": {
        "colab": {
          "base_uri": "https://localhost:8080/"
        },
        "id": "y8i_JqgcRK4a",
        "outputId": "1c7408f3-161b-45d0-997a-ef97f19fb059"
      },
      "execution_count": null,
      "outputs": [
        {
          "output_type": "stream",
          "name": "stdout",
          "text": [
            "Masukkan sisi a: 3\n",
            "Masukkan sisi b: 4\n",
            "Masukkan sisi c: 5\n",
            "Luas Segitiga =  6.0\n"
          ]
        }
      ]
    },
    {
      "cell_type": "code",
      "source": [],
      "metadata": {
        "id": "-bEAf_oWUlXF"
      },
      "execution_count": null,
      "outputs": []
    },
    {
      "cell_type": "markdown",
      "source": [
        "# Praktikum 03. Konversi Suhu Celcius ke Fahrenheit"
      ],
      "metadata": {
        "id": "bbleZ89IYPP1"
      }
    },
    {
      "cell_type": "code",
      "source": [
        "c = float(input(\"Masukkan suhu (c): \"))\n",
        "f = (c * 9/5) + 32\n",
        "print (\"Hasil konversi = \", f, \"f\")"
      ],
      "metadata": {
        "id": "Cv6cYBv2Yyyi",
        "colab": {
          "base_uri": "https://localhost:8080/"
        },
        "outputId": "c8a06999-e945-4a0e-fab7-f6587f6a23e4"
      },
      "execution_count": null,
      "outputs": [
        {
          "output_type": "stream",
          "name": "stdout",
          "text": [
            "Masukkan suhu (c): 36\n",
            "Hasil konversi =  96.8 f\n"
          ]
        }
      ]
    },
    {
      "cell_type": "markdown",
      "source": [
        "# Praktikum 04. Menghitung Umur Berdasarkan Tahun Lahir"
      ],
      "metadata": {
        "id": "l2BIJBNyY3f0"
      }
    },
    {
      "cell_type": "code",
      "source": [
        "tahun_lahir = int(input(\"Masukkan tahun lahir: \"))\n",
        "tahun_sekarang = 2025\n",
        "umur = tahun_sekarang -  tahun_lahir\n",
        "print (\"Umur anda = \", umur, \"tahun\")"
      ],
      "metadata": {
        "colab": {
          "base_uri": "https://localhost:8080/"
        },
        "id": "zQb9Lh3qYZyr",
        "outputId": "48b2cb02-cf5f-4851-952e-975ad84e2088"
      },
      "execution_count": null,
      "outputs": [
        {
          "output_type": "stream",
          "name": "stdout",
          "text": [
            "Masukkan tahun lahir: 2007\n",
            "Umur anda =  18 tahun\n"
          ]
        }
      ]
    },
    {
      "cell_type": "code",
      "source": [],
      "metadata": {
        "id": "wfnXA4t9aPfr"
      },
      "execution_count": null,
      "outputs": []
    },
    {
      "cell_type": "markdown",
      "source": [
        "# Praktikum 05. Menghitung Luas Lingkaran"
      ],
      "metadata": {
        "id": "3yzQinNeaV0K"
      }
    },
    {
      "cell_type": "code",
      "source": [
        "import math\n",
        "r = float(input(\"Masukkan jari-jari lingkaran: \"))\n",
        "luas = math.pi * r * r\n",
        "print (\"Luas lingkaran = \", luas)\n"
      ],
      "metadata": {
        "colab": {
          "base_uri": "https://localhost:8080/"
        },
        "id": "P31KcpjJad42",
        "outputId": "6a531c3f-198f-460e-de68-74aa64aacac2"
      },
      "execution_count": null,
      "outputs": [
        {
          "output_type": "stream",
          "name": "stdout",
          "text": [
            "Masukkan jari-jari lingkaran: 7\n",
            "Luas lingkaran =  153.93804002589985\n"
          ]
        }
      ]
    },
    {
      "cell_type": "markdown",
      "source": [
        "# Praktikum 06. Menghitung Tiga Bilangan"
      ],
      "metadata": {
        "id": "dRu0lhF1bVl_"
      }
    },
    {
      "cell_type": "code",
      "source": [
        "a = int(input(\"Masukkan bilangan pertama: \"))\n",
        "b = int(input(\"Masukkan bilangan kedua: \"))\n",
        "c = int (input(\"Masukkan bilangan ketiga: \"))\n",
        "jumlah = a + b + c\n",
        "print (\"Jumlah = \", jumlah)\n"
      ],
      "metadata": {
        "colab": {
          "base_uri": "https://localhost:8080/"
        },
        "id": "JK029MDRa3_K",
        "outputId": "487aba3e-de44-4168-9299-bd641a459f68"
      },
      "execution_count": null,
      "outputs": [
        {
          "output_type": "stream",
          "name": "stdout",
          "text": [
            "Masukkan bilangan pertama: 5\n",
            "Masukkan bilangan kedua: 10\n",
            "Masukkan bilangan ketiga: 15\n",
            "Jumlah =  30\n"
          ]
        }
      ]
    },
    {
      "cell_type": "code",
      "source": [],
      "metadata": {
        "id": "p9GFTakTcBpk"
      },
      "execution_count": null,
      "outputs": []
    },
    {
      "cell_type": "markdown",
      "source": [
        "# Penugasan Menghitung Volume Balok"
      ],
      "metadata": {
        "id": "l0dBMSzBi8py"
      }
    },
    {
      "cell_type": "code",
      "source": [
        "p = int(input(\"Masukkan panjang: \"))\n",
        "l = int(input(\"Masukkan lebar: \"))\n",
        "t = int(input(\"Masukkan tinggi: \"))\n",
        "v = p * l * t\n",
        "print(\"Volume Balok = \", v)\n"
      ],
      "metadata": {
        "id": "kzHHuM54jBeC",
        "colab": {
          "base_uri": "https://localhost:8080/"
        },
        "outputId": "cf798d36-3d36-4f1f-beb4-dc7ee3fe169a"
      },
      "execution_count": null,
      "outputs": [
        {
          "output_type": "stream",
          "name": "stdout",
          "text": [
            "Masukkan panjang: 5\n",
            "Masukkan lebar: 6\n",
            "Masukkan tinggi: 7\n",
            "Volume Balok =  210\n"
          ]
        }
      ]
    },
    {
      "cell_type": "markdown",
      "source": [
        "# Penugasan Konversi Waktu"
      ],
      "metadata": {
        "id": "HsOJ0hZnqBDH"
      }
    },
    {
      "cell_type": "code",
      "source": [
        "a = int(input(\"Masukkan detik: \"))\n",
        "jam_str = a / 3600\n",
        "sisa_setelah_jam = a % 3600\n",
        "menit_str = sisa_setelah_jam / 60\n",
        "detik_str = sisa_setelah_jam % 60\n",
        "jam = int(jam_str)\n",
        "menit = int(menit_str)\n",
        "detik = int(detik_str)\n",
        "print (\"Hasil konversi = \", jam, \"jam\", menit, \"menit\", detik, \"detik\")"
      ],
      "metadata": {
        "id": "XWSa3kb7j10P",
        "colab": {
          "base_uri": "https://localhost:8080/"
        },
        "outputId": "94c2ae30-1e1b-4cf8-9187-01d819fa9d9e"
      },
      "execution_count": null,
      "outputs": [
        {
          "output_type": "stream",
          "name": "stdout",
          "text": [
            "Masukkan detik: 7290\n",
            "Hasil konversi =  2 jam 1 menit 30 detik\n"
          ]
        }
      ]
    },
    {
      "cell_type": "markdown",
      "source": [
        "# Penugasan Rata-rata Nilai Mata Kuliah"
      ],
      "metadata": {
        "id": "EmEYG9ChujIT"
      }
    },
    {
      "cell_type": "code",
      "source": [
        "a = int(input(\"Masukkan nilai mata kuliah 1: \"))\n",
        "b = int(input(\"Masukkan nilai mata kuliah 2: \"))\n",
        "c = int(input(\"Masukkan nilai mata kuliah 3: \"))\n",
        "rata_rata = (a + b + c) / 3\n",
        "print(\"Rata-rata nilai Mahasiswa: \", rata_rata)\n",
        "if rata_rata >= 60:\n",
        "  print (\"Selamat anda Lulus\")\n",
        "else:\n",
        "  print (\"Maaf anda tidak Lulus\")"
      ],
      "metadata": {
        "colab": {
          "base_uri": "https://localhost:8080/"
        },
        "id": "FyqiH8XluqlC",
        "outputId": "a1d4f9a9-c09b-486b-bed1-ed477d0d4be5"
      },
      "execution_count": null,
      "outputs": [
        {
          "output_type": "stream",
          "name": "stdout",
          "text": [
            "Masukkan nilai mata kuliah 1: 90\n",
            "Masukkan nilai mata kuliah 2: 70\n",
            "Masukkan nilai mata kuliah 3: 80\n",
            "Rata-rata nilai Mahasiswa:  80.0\n",
            "Selamat anda Lulus\n"
          ]
        }
      ]
    },
    {
      "cell_type": "code",
      "source": [],
      "metadata": {
        "id": "BfcGpn3Iv-52"
      },
      "execution_count": null,
      "outputs": []
    },
    {
      "cell_type": "markdown",
      "source": [
        "# Penugasan Menghitung Diskon Belanja"
      ],
      "metadata": {
        "id": "SAPvIzWzzBnj"
      }
    },
    {
      "cell_type": "code",
      "source": [
        "a = int(input(\"Masukkan total belanja: \"))\n",
        "if a >= 500000:\n",
        "  print(\"diskon 20%\")\n",
        "elif a >= 250000:\n",
        "  print(\"diskon 10%\")\n",
        "else:\n",
        "  print(\"tidak ada diskon\")"
      ],
      "metadata": {
        "colab": {
          "base_uri": "https://localhost:8080/"
        },
        "id": "fMVxviB-zIz0",
        "outputId": "74820f3a-b34c-4430-8dc7-535f75e60fe8"
      },
      "execution_count": null,
      "outputs": [
        {
          "output_type": "stream",
          "name": "stdout",
          "text": [
            "Masukkan total belanja: 100000000000\n",
            "diskon 20%\n"
          ]
        }
      ]
    },
    {
      "cell_type": "code",
      "source": [],
      "metadata": {
        "id": "aNhEwz860tgZ"
      },
      "execution_count": null,
      "outputs": []
    }
  ]
}