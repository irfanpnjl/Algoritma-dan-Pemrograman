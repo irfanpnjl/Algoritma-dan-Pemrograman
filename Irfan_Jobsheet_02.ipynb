{
  "nbformat": 4,
  "nbformat_minor": 0,
  "metadata": {
    "colab": {
      "provenance": [],
      "authorship_tag": "ABX9TyNqab49DXUFOoaIaDzizdys",
      "include_colab_link": true
    },
    "kernelspec": {
      "name": "python3",
      "display_name": "Python 3"
    },
    "language_info": {
      "name": "python"
    }
  },
  "cells": [
    {
      "cell_type": "markdown",
      "metadata": {
        "id": "view-in-github",
        "colab_type": "text"
      },
      "source": [
        "<a href=\"https://colab.research.google.com/github/irfanpnjl/Algoritma-dan-Pemrograman/blob/main/Irfan_Jobsheet_02.ipynb\" target=\"_parent\"><img src=\"https://colab.research.google.com/assets/colab-badge.svg\" alt=\"Open In Colab\"/></a>"
      ]
    },
    {
      "cell_type": "markdown",
      "source": [
        "# Praktikum 01. Mengenali Variabel dan Tipe Data"
      ],
      "metadata": {
        "id": "tfHg7AlgdbKR"
      }
    },
    {
      "cell_type": "code",
      "execution_count": null,
      "metadata": {
        "colab": {
          "base_uri": "https://localhost:8080/"
        },
        "id": "Yu1eCv3zEz0P",
        "outputId": "c89549ad-d38c-4600-c26e-b055034d7293"
      },
      "outputs": [
        {
          "output_type": "stream",
          "name": "stdout",
          "text": [
            "Umur: 20 → <class 'int'>\n",
            "Tinggi: 170.5 → <class 'float'>\n",
            "Nama: Irfan → <class 'str'>\n",
            "Mahasiswa: True → <class 'bool'>\n",
            "Nilai: [80, 85, 90] → <class 'list'>\n",
            "Koordinat: (10, 20) → <class 'tuple'>\n",
            "Data_Mahasiswa: {'nama': 'Andi', 'umur': 20, 'prodi': 'TRK'} → <class 'dict'>\n",
            "Hobi: {'olahraga', 'membaca', 'musik'} → <class 'set'>\n"
          ]
        }
      ],
      "source": [
        "umur = 20\n",
        "print (\"Umur:\", umur, \"→\", type(umur))\n",
        "\n",
        "tinggi = 170.5\n",
        "print (\"Tinggi:\", tinggi, \"→\", type (tinggi))\n",
        "\n",
        "nama = \"Irfan\"\n",
        "print (\"Nama:\", nama, \"→\", type (nama))\n",
        "\n",
        "is_mahasiswa = True\n",
        "print (\"Mahasiswa:\", is_mahasiswa, \"→\", type (is_mahasiswa))\n",
        "\n",
        "nilai = [80, 85, 90]\n",
        "print (\"Nilai:\", nilai, \"→\", type (nilai))\n",
        "\n",
        "koordinat = (10, 20)\n",
        "print (\"Koordinat:\", koordinat, \"→\", type (koordinat))\n",
        "\n",
        "mahasiswa = {\"nama\": \"Andi\", \"umur\": 20, \"prodi\": \"TRK\"}\n",
        "print (\"Data_Mahasiswa:\", mahasiswa, \"→\", type (mahasiswa))\n",
        "\n",
        "hobi = {\"membaca\", \"olahraga\", \"musik\"}\n",
        "print (\"Hobi:\", hobi, \"→\", type (hobi))\n"
      ]
    },
    {
      "cell_type": "code",
      "source": [],
      "metadata": {
        "id": "pjBtKhGFfAfK"
      },
      "execution_count": null,
      "outputs": []
    },
    {
      "cell_type": "markdown",
      "source": [
        "# Praktikum 02. Input dan Output Dasar"
      ],
      "metadata": {
        "id": "oJ-hmUxkiIfN"
      }
    },
    {
      "cell_type": "code",
      "source": [
        "nama = input(\"Masukkan nama anda: \")\n",
        "\n",
        "umur = input(\"Masukkan umur anda: \")\n",
        "\n",
        "tinggi = input(\"Masukkan tinggi badan anda: \")\n",
        "\n",
        "#output standar\n",
        "print(\"Halo\", nama, \"umur anda:\", umur, \"tahun, tinggi:\", tinggi, \"cm\")\n",
        "\n",
        "#output dengan format ()\n",
        "print(\"Halo {0}, umur Anda {1} tahun, tinggi {2} cm\".format(nama, umur, tinggi))\n",
        "\n",
        "#output dengan f-string\n",
        "print(f\"Halo {nama}, umur Anda {umur}tahun, tinggi {tinggi} cm\")"
      ],
      "metadata": {
        "colab": {
          "base_uri": "https://localhost:8080/"
        },
        "id": "V6jL_pNoiPn6",
        "outputId": "2a8e2edb-fc7d-4887-d8ab-50cffc4e71c8"
      },
      "execution_count": null,
      "outputs": [
        {
          "output_type": "stream",
          "name": "stdout",
          "text": [
            "Masukkan nama anda: Irfan\n",
            "Masukkan umur anda: 18\n",
            "Masukkan tinggi badan anda: 173\n",
            "Halo Irfan umur anda: 18 tahun, tinggi: 173 cm\n",
            "Halo Irfan, umur Anda 18 tahun, tinggi 173 cm\n",
            "Halo Irfan, umur Anda 18tahun, tinggi 173 cm\n"
          ]
        }
      ]
    },
    {
      "cell_type": "code",
      "source": [],
      "metadata": {
        "id": "T0Rc7yE7kVfV"
      },
      "execution_count": null,
      "outputs": []
    },
    {
      "cell_type": "markdown",
      "source": [
        "# Praktikum 03. Operator Aritmatika"
      ],
      "metadata": {
        "id": "B6pM7QF5k3PT"
      }
    },
    {
      "cell_type": "code",
      "source": [
        "a = 15\n",
        "b = 4\n",
        "\n",
        "print(\"a + b =\", a + b)\n",
        "print(\"a - b =\", a - b)\n",
        "print(\"a * b =\", a * b)\n",
        "print(\"a / b =\", a / b)\n",
        "print(\"a // b =\", a // b)\n",
        "print(\"a % b =\", a % b)\n",
        "print(\"a ** b=\", a ** b)\n"
      ],
      "metadata": {
        "colab": {
          "base_uri": "https://localhost:8080/"
        },
        "id": "5wPCz3nWk7ww",
        "outputId": "6114de1e-e329-46aa-eb6d-184db96e2fc1"
      },
      "execution_count": null,
      "outputs": [
        {
          "output_type": "stream",
          "name": "stdout",
          "text": [
            "a + b = 19\n",
            "a - b = 11\n",
            "a * b = 60\n",
            "a / b = 3.75\n",
            "a // b = 3\n",
            "a % b = 3\n",
            "a ** b= 50625\n"
          ]
        }
      ]
    },
    {
      "cell_type": "code",
      "source": [],
      "metadata": {
        "id": "mXd4RloPl-UE"
      },
      "execution_count": null,
      "outputs": []
    },
    {
      "cell_type": "markdown",
      "source": [
        "# Praktikum 04. Operasi Relasional"
      ],
      "metadata": {
        "id": "BcMKAdNHmEq-"
      }
    },
    {
      "cell_type": "code",
      "source": [
        "x = 10\n",
        "y = 20\n",
        "\n",
        "print(\"x == y :\", x == y)\n",
        "print(\"x != y :\", x != y)\n",
        "print(\"x < y :\", x < y)\n",
        "print(\"x > y :\", x > y)\n",
        "print(\"x <= y :\", x <= y)\n",
        "print(\"x >= y :\", x >= y)"
      ],
      "metadata": {
        "colab": {
          "base_uri": "https://localhost:8080/"
        },
        "id": "hJ6S4NO1mObW",
        "outputId": "0ac8f4b0-8368-4c73-88dc-2a31f23d5426"
      },
      "execution_count": null,
      "outputs": [
        {
          "output_type": "stream",
          "name": "stdout",
          "text": [
            "x == y : False\n",
            "x != y : True\n",
            "x < y : True\n",
            "x > y : False\n",
            "x <= y : True\n",
            "x >= y : False\n"
          ]
        }
      ]
    },
    {
      "cell_type": "markdown",
      "source": [],
      "metadata": {
        "id": "yooIsh3Qwmk5"
      }
    },
    {
      "cell_type": "markdown",
      "source": [
        "# Praktikum 05. Operasi Logika dengan Studi Kasus Nyata"
      ],
      "metadata": {
        "id": "6S6A-nthwsef"
      }
    },
    {
      "cell_type": "code",
      "source": [
        "a = True\n",
        "b = False\n",
        "\n",
        "print(\"a and b =\", a and b)\n",
        "print(\"a or b =\", a or b)\n",
        "print(\"not a =\", not a)\n",
        "\n",
        "nilai = int (input(\"Masukkan nilai ujian: \"))\n",
        "hadir = int (input(\"Masukkan nilai kehadiran: \"))\n",
        "\n",
        "lulus_nilai = nilai >= 60\n",
        "lulus_hadir = hadir >= 12\n",
        "\n",
        "if lulus_nilai and lulus_hadir:\n",
        "  print(\"Status: LULUS\")\n",
        "else:\n",
        "    print(\"Status: TIDAK LULUS\")"
      ],
      "metadata": {
        "colab": {
          "base_uri": "https://localhost:8080/"
        },
        "id": "Jp_jJ4CAuiwT",
        "outputId": "90b0abd9-3e8c-4b13-81fe-ad0e2dd091dc"
      },
      "execution_count": null,
      "outputs": [
        {
          "output_type": "stream",
          "name": "stdout",
          "text": [
            "a and b = False\n",
            "a or b = True\n",
            "not a = False\n",
            "Masukkan nilai ujian: 100\n",
            "Masukkan nilai kehadiran: 16\n",
            "Status: LULUS\n"
          ]
        }
      ]
    },
    {
      "cell_type": "code",
      "source": [],
      "metadata": {
        "id": "9LcZA3oLx5Pi"
      },
      "execution_count": null,
      "outputs": []
    },
    {
      "cell_type": "markdown",
      "source": [
        "# Praktikum 06. Program Kasir Sederhana"
      ],
      "metadata": {
        "id": "vX-5WH-cyHdE"
      }
    },
    {
      "cell_type": "code",
      "source": [
        "barang = input (\"Masukkan nama barang: \")\n",
        "harga = float (input(\"Masukkan harga barang: \"))\n",
        "jumlah = int (input(\"Masukkan jumlah barang: \"))\n",
        "\n",
        "total = harga * jumlah\n",
        "\n",
        "if total >= 500000:\n",
        "  diskon = 0.2\n",
        "elif total >= 250000:\n",
        "  diskon = 0.1\n",
        "else:\n",
        "    diskon = 0\n",
        "\n",
        "potongan = total * diskon\n",
        "bayar = total - potongan\n",
        "\n",
        "print(\"\\n===== Struk Belanja =====\")\n",
        "print(f\"Barang : {barang}\")\n",
        "print(f\"Jumlah : {jumlah}\")\n",
        "print(f\"Total : {total}\")\n",
        "print(f\"Diskon : {diskon * 100}%\")\n",
        "print(f\"Bayar : {bayar}\")"
      ],
      "metadata": {
        "id": "sFJCtLVnyNlT",
        "colab": {
          "base_uri": "https://localhost:8080/"
        },
        "outputId": "d032a795-60c7-406c-a91d-7b0f76f708ed"
      },
      "execution_count": null,
      "outputs": [
        {
          "output_type": "stream",
          "name": "stdout",
          "text": [
            "Masukkan nama barang: Sepatu\n",
            "Masukkan harga barang: 550000\n",
            "Masukkan jumlah barang: 2\n",
            "\n",
            "===== Struk Belanja =====\n",
            "Barang : Sepatu\n",
            "Jumlah : 2\n",
            "Total : 1100000.0\n",
            "Diskon : 20.0%\n",
            "Bayar : 880000.0\n"
          ]
        }
      ]
    },
    {
      "cell_type": "code",
      "source": [],
      "metadata": {
        "id": "hu6THQ4txqXP"
      },
      "execution_count": null,
      "outputs": []
    },
    {
      "cell_type": "markdown",
      "source": [
        "# Penugasan: Identias Mahasiswa"
      ],
      "metadata": {
        "id": "GstE6LOhbcuH"
      }
    },
    {
      "cell_type": "code",
      "source": [
        "nama = \"Irfan\"\n",
        "umur = 18\n",
        "tinggi = 173.0\n",
        "status_aktif = True\n",
        "\n",
        "print(f\"Nama: {nama}\")\n",
        "print(f\"Umur: {umur} tahun\")\n",
        "print(f\"Tinggi: {tinggi} cm\")\n",
        "print(f\"Status Aktif: {status_aktif}\")\n"
      ],
      "metadata": {
        "colab": {
          "base_uri": "https://localhost:8080/"
        },
        "id": "txp-YFHbbrn8",
        "outputId": "3431431f-3f79-44f3-f0be-c1abeedba8b9"
      },
      "execution_count": null,
      "outputs": [
        {
          "output_type": "stream",
          "name": "stdout",
          "text": [
            "Nama: Irfan\n",
            "Umur: 18 tahun\n",
            "Tinggi: 173.0 cm\n",
            "Status Aktif: True\n"
          ]
        }
      ]
    },
    {
      "cell_type": "code",
      "source": [],
      "metadata": {
        "id": "QTQcsn7rjoic"
      },
      "execution_count": null,
      "outputs": []
    },
    {
      "cell_type": "markdown",
      "source": [
        "# Penugasan: Operasi Aritmatika"
      ],
      "metadata": {
        "id": "iao1kUHekUuK"
      }
    },
    {
      "cell_type": "code",
      "source": [
        "pertama =int(input(\"masukkan bil bulat pertama: \"))\n",
        "kedua = int(input(\"masukkan bil bulat kedua: \"))\n",
        "\n",
        "\n",
        "\n",
        "print(\"hasil penjumlahan: \", pertama + kedua)\n",
        "print(\"hasil pengurangan: \", pertama - kedua)\n",
        "print(\"hasil perkalian: \", pertama * kedua)\n",
        "print(\"hasil pembagian: \", pertama / kedua)\n",
        "print(\"sisa bagi: \", pertama % kedua)\n",
        "print(\"hasil perpangkatan: \", pertama ** kedua)\n"
      ],
      "metadata": {
        "colab": {
          "base_uri": "https://localhost:8080/"
        },
        "id": "O1soY3eIkbCS",
        "outputId": "386cadd6-1b4a-440b-a0ac-6cb697e9c5e3"
      },
      "execution_count": null,
      "outputs": [
        {
          "output_type": "stream",
          "name": "stdout",
          "text": [
            "masukkan bil bulat pertama: 9\n",
            "masukkan bil bulat kedua: 2\n",
            "hasil penjumlahan:  11\n",
            "hasil pengurangan:  7\n",
            "hasil perkalian:  18\n",
            "hasil pembagian:  4.5\n",
            "sisa bagi:  1\n",
            "hasil perpangkatan:  81\n"
          ]
        }
      ]
    },
    {
      "cell_type": "markdown",
      "source": [
        "# Penugasan: Konversi Nilai"
      ],
      "metadata": {
        "id": "d0o2QtK4oBMH"
      }
    },
    {
      "cell_type": "code",
      "source": [
        "bil_float = float(input(\"masukkan angka desimal: \"))\n",
        "\n",
        "bil_int = int(bil_float)\n",
        "bil_str = str(bil_float)\n",
        "bil_round = round(bil_float)\n",
        "\n",
        "print(\"integer: \", bil_int)\n",
        "print(\"string: \", bil_str)\n",
        "print(\"round \", bil_round)"
      ],
      "metadata": {
        "colab": {
          "base_uri": "https://localhost:8080/"
        },
        "id": "CN-rSWFpoIBC",
        "outputId": "e4ccffd9-1079-4459-a6e0-e0a34c271bcb"
      },
      "execution_count": null,
      "outputs": [
        {
          "output_type": "stream",
          "name": "stdout",
          "text": [
            "masukkan angka desimal: 7.6\n",
            "integer:  7\n",
            "string:  7.6\n",
            "round  8\n"
          ]
        }
      ]
    },
    {
      "cell_type": "code",
      "source": [],
      "metadata": {
        "id": "Sn6RC1nEp47Q"
      },
      "execution_count": null,
      "outputs": []
    },
    {
      "cell_type": "markdown",
      "source": [
        "# Penugasan: Operator Relasional"
      ],
      "metadata": {
        "id": "73fNy0_krFE1"
      }
    },
    {
      "cell_type": "code",
      "source": [
        "bil1 = input(\"bilangan pertama: \")\n",
        "bil2 = input(\"bilangan kedua: \")\n",
        "\n",
        "print(\"bilangan pertama == bilangan kedua:\",  bil1 == bil2)\n",
        "print(\"bilangan pertama != bilangan kedua:\",  bil1 != bil2)\n",
        "print(\"bilangan pertama < bilangan kedua:\", bil1 > bil2)\n",
        "print(\"bilangan pertama <= bilangan kedua:\",  bil1 <= bil2)\n",
        "print(\"bilangan pertama >= bilangan kedua:\",  bil1 >= bil2)"
      ],
      "metadata": {
        "id": "xIJ5go0HrKe_",
        "colab": {
          "base_uri": "https://localhost:8080/"
        },
        "outputId": "59e7919c-ea16-4876-ffe3-682677696c57"
      },
      "execution_count": 9,
      "outputs": [
        {
          "output_type": "stream",
          "name": "stdout",
          "text": [
            "bilangan pertama: 5\n",
            "bilangan kedua: 9\n",
            "bilangan pertama == bilangan kedua: False\n",
            "bilangan pertama != bilangan kedua: True\n",
            "bilangan pertama < bilangan kedua: False\n",
            "bilangan pertama <= bilangan kedua: True\n",
            "bilangan pertama >= bilangan kedua: False\n"
          ]
        }
      ]
    },
    {
      "cell_type": "code",
      "source": [],
      "metadata": {
        "id": "C_PdUZ3BXYo-"
      },
      "execution_count": null,
      "outputs": []
    }
  ]
}